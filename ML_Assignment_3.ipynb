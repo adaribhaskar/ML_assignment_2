{
  "nbformat": 4,
  "nbformat_minor": 0,
  "metadata": {
    "colab": {
      "provenance": [],
      "authorship_tag": "ABX9TyNHxSaTwItltZGpMnXQQLqW",
      "include_colab_link": true
    },
    "kernelspec": {
      "name": "python3",
      "display_name": "Python 3"
    },
    "language_info": {
      "name": "python"
    }
  },
  "cells": [
    {
      "cell_type": "markdown",
      "metadata": {
        "id": "view-in-github",
        "colab_type": "text"
      },
      "source": [
        "<a href=\"https://colab.research.google.com/github/adaribhaskar/ML_assignment_2/blob/main/ML_Assignment_3.ipynb\" target=\"_parent\"><img src=\"https://colab.research.google.com/assets/colab-badge.svg\" alt=\"Open In Colab\"/></a>"
      ]
    },
    {
      "cell_type": "markdown",
      "source": [
        "**Numpy**"
      ],
      "metadata": {
        "id": "C1qeg6j2QiQB"
      }
    },
    {
      "cell_type": "code",
      "execution_count": 1,
      "metadata": {
        "id": "ohxo7d7o9qr3"
      },
      "outputs": [],
      "source": [
        "import numpy as np"
      ]
    },
    {
      "cell_type": "code",
      "source": [
        "arr = np.random.randint(low=1, high=20,size=15)\n",
        "arr=arr.reshape(3,5)\n",
        "print(arr)\n",
        "print(arr.shape)\n",
        "max = np.argmax(arr, axis=1)\n",
        "for i in range(len(max)):\n",
        "    arr[i][max[i]] = 0\n",
        "print(arr)"
      ],
      "metadata": {
        "colab": {
          "base_uri": "https://localhost:8080/"
        },
        "id": "hV2xRm6c-BIx",
        "outputId": "3f88fec6-c37e-4264-d280-e8bce55ccaad"
      },
      "execution_count": 24,
      "outputs": [
        {
          "output_type": "stream",
          "name": "stdout",
          "text": [
            "[[12  5 11 15 11]\n",
            " [15 11 11  3  2]\n",
            " [ 3 16  3 14 17]]\n",
            "(3, 5)\n",
            "[[12  5 11  0 11]\n",
            " [ 0 11 11  3  2]\n",
            " [ 3 16  3 14  0]]\n"
          ]
        }
      ]
    },
    {
      "cell_type": "code",
      "source": [
        "arr = np.array([[1, 2, 3], [4, 5, 6], [7, 8, 9], [10, 11, 12]], dtype=np.int32)\n",
        "print(\"Array:\", arr)\n",
        "print(\"Shape:\", arr.shape)\n",
        "print(\"Type:\", type(arr))\n",
        "print(\"Data type:\", arr.dtype)"
      ],
      "metadata": {
        "colab": {
          "base_uri": "https://localhost:8080/"
        },
        "id": "D7MbE_qKHMHT",
        "outputId": "94224c11-726d-4533-ad2e-a3d613063e0f"
      },
      "execution_count": 26,
      "outputs": [
        {
          "output_type": "stream",
          "name": "stdout",
          "text": [
            "Array: [[ 1  2  3]\n",
            " [ 4  5  6]\n",
            " [ 7  8  9]\n",
            " [10 11 12]]\n",
            "Shape: (4, 3)\n",
            "Type: <class 'numpy.ndarray'>\n",
            "Data type: int32\n"
          ]
        }
      ]
    },
    {
      "cell_type": "code",
      "source": [
        "arr = np.array([[3, -2], [1, 0]])\n",
        "eigenvalues, eigenvectors = np.linalg.eig(arr)\n",
        "print( eigenvalues)\n",
        "print( eigenvectors)"
      ],
      "metadata": {
        "colab": {
          "base_uri": "https://localhost:8080/"
        },
        "id": "99LS4mTjIEXY",
        "outputId": "9a13c5db-c578-424f-fd79-a15351d33d2f"
      },
      "execution_count": 27,
      "outputs": [
        {
          "output_type": "stream",
          "name": "stdout",
          "text": [
            "[2. 1.]\n",
            "[[0.89442719 0.70710678]\n",
            " [0.4472136  0.70710678]]\n"
          ]
        }
      ]
    },
    {
      "cell_type": "code",
      "source": [
        "arr = np.array([[0, 1, 2], [3, 4, 5]])\n",
        "diagonal = np.trace(arr)\n",
        "print(diagonal)"
      ],
      "metadata": {
        "colab": {
          "base_uri": "https://localhost:8080/"
        },
        "id": "FKcGGMQpIVwv",
        "outputId": "6553c232-7277-4e50-8569-ef82dbce9846"
      },
      "execution_count": 30,
      "outputs": [
        {
          "output_type": "stream",
          "name": "stdout",
          "text": [
            "4\n"
          ]
        }
      ]
    },
    {
      "cell_type": "code",
      "source": [
        "arr = np.array([[1, 2], [3, 4], [5, 6]])\n",
        "new_arr = np.reshape(arr, (2, 3))\n",
        "new_arr1=np.reshape(new_arr,(3,2))\n",
        "print(new_arr)\n",
        "print(new_arr1)"
      ],
      "metadata": {
        "colab": {
          "base_uri": "https://localhost:8080/"
        },
        "id": "h9IgrsGlIwhG",
        "outputId": "0f1e65f1-26ae-4879-a795-09f3dac4a394"
      },
      "execution_count": 33,
      "outputs": [
        {
          "output_type": "stream",
          "name": "stdout",
          "text": [
            "[[1 2 3]\n",
            " [4 5 6]]\n",
            "[[1 2]\n",
            " [3 4]\n",
            " [5 6]]\n"
          ]
        }
      ]
    },
    {
      "cell_type": "markdown",
      "source": [
        "**Matplotlib**"
      ],
      "metadata": {
        "id": "_Wrq7BGPQdKr"
      }
    },
    {
      "cell_type": "code",
      "source": [
        "from matplotlib import pyplot as pyplot\n",
        "\n",
        "Programming_languages=[ \"Java\",\" Python\",\" PHP\", \"JavaScript\", \"C#\", \"C++\"]\n",
        "Popularity= [22.2, 17.6, 8.8, 8, 7.7, 6.7]\n",
        "pyplot.figure(figsize=(6,10))\n",
        "pyplot.pie(Popularity,labels=Programming_languages,startangle=120,\n",
        "           wedgeprops={\"edgecolor\":\"black\",\"linewidth\":0.7},explode=[0.2,0,0,0,0,0],\n",
        "           shadow=True,autopct=\"%2.1f%%\")\n",
        "pyplot.show()"
      ],
      "metadata": {
        "colab": {
          "base_uri": "https://localhost:8080/",
          "height": 366
        },
        "id": "XWpwA5zGLySX",
        "outputId": "3e4b5045-18fb-4572-e943-b31c3adfb60d"
      },
      "execution_count": 57,
      "outputs": [
        {
          "output_type": "display_data",
          "data": {
            "text/plain": [
              "<Figure size 432x720 with 1 Axes>"
            ],
            "image/png": "[encoded data removed]"
          },
          "metadata": {}
        }
      ]
    }
  ]
}